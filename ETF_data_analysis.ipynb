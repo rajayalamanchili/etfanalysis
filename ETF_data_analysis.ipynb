{
 "cells": [
  {
   "cell_type": "code",
   "execution_count": 1,
   "metadata": {},
   "outputs": [],
   "source": [
    "import pandas as pd\n",
    "import numpy as np\n",
    "import FundInfo as fi\n",
    "import seaborn as sns"
   ]
  },
  {
   "cell_type": "markdown",
   "metadata": {},
   "source": [
    "Tickers Reference: https://www.tsx.com/listings/listing-with-us/sector-and-product-profiles/exchange-traded-funds"
   ]
  },
  {
   "cell_type": "code",
   "execution_count": 2,
   "metadata": {},
   "outputs": [],
   "source": [
    "# read data\n",
    "rootDir = \"../\"\n",
    "fundInfo = fi.FundInfo(rootDir)"
   ]
  },
  {
   "cell_type": "code",
   "execution_count": 3,
   "metadata": {},
   "outputs": [
    {
     "name": "stdout",
     "output_type": "stream",
     "text": [
      "Total tickers : 99 \n",
      "\n",
      "Total Fund Families : 6 \n",
      "\n",
      "Ticker by Fund Families : \n",
      "BlackRock/iShares    60\n",
      "Blackrock/iShares    23\n",
      "AGFiQ                 9\n",
      "Accelerate            4\n",
      "Arrow Capital         2\n",
      "Barclays Capital      1\n",
      "Name: Fund_Family, dtype: int64 \n"
     ]
    }
   ],
   "source": [
    "fundInfoDF = fundInfo.allFundInfoDF\n",
    "#data overview\n",
    "print(\"Total tickers : %d \"%len(fundInfoDF[\"Ticker\"]))\n",
    "print(\"\\nTotal Fund Families : %d \"%len(fundInfoDF[\"Fund_Family\"].unique()))\n",
    "print(\"\\nTicker by Fund Families : \\n%s \"%(fundInfoDF[\"Fund_Family\"].value_counts()))"
   ]
  },
  {
   "cell_type": "code",
   "execution_count": 4,
   "metadata": {},
   "outputs": [],
   "source": [
    "selectedColumns = [\"Ticker\", \"Fund_Family\", \"previous_close\", \"stocks\", \"bonds\",\n",
    "                   \"priceearnings\", \"pricebook\", \"pricesales\", \"pricecashflow\"]\n",
    "dataDF = fundInfoDF.loc[:, selectedColumns]\n",
    "dataDF = dataDF.dropna(subset=['previous_close'])"
   ]
  },
  {
   "cell_type": "code",
   "execution_count": 5,
   "metadata": {},
   "outputs": [
    {
     "data": {
      "text/html": [
       "<div>\n",
       "<style scoped>\n",
       "    .dataframe tbody tr th:only-of-type {\n",
       "        vertical-align: middle;\n",
       "    }\n",
       "\n",
       "    .dataframe tbody tr th {\n",
       "        vertical-align: top;\n",
       "    }\n",
       "\n",
       "    .dataframe thead th {\n",
       "        text-align: right;\n",
       "    }\n",
       "</style>\n",
       "<table border=\"1\" class=\"dataframe\">\n",
       "  <thead>\n",
       "    <tr style=\"text-align: right;\">\n",
       "      <th></th>\n",
       "      <th>Ticker</th>\n",
       "      <th>Fund_Family</th>\n",
       "      <th>previous_close</th>\n",
       "      <th>stocks</th>\n",
       "      <th>bonds</th>\n",
       "      <th>priceearnings</th>\n",
       "      <th>pricebook</th>\n",
       "      <th>pricesales</th>\n",
       "      <th>pricecashflow</th>\n",
       "    </tr>\n",
       "  </thead>\n",
       "  <tbody>\n",
       "    <tr>\n",
       "      <th>0</th>\n",
       "      <td>HDGE</td>\n",
       "      <td>accelerate</td>\n",
       "      <td>17.55</td>\n",
       "      <td>100.00</td>\n",
       "      <td>0.0</td>\n",
       "      <td>13.75</td>\n",
       "      <td>2.51</td>\n",
       "      <td>1.42</td>\n",
       "      <td>10.20</td>\n",
       "    </tr>\n",
       "    <tr>\n",
       "      <th>1</th>\n",
       "      <td>ARB</td>\n",
       "      <td>accelerate</td>\n",
       "      <td>21.82</td>\n",
       "      <td>100.00</td>\n",
       "      <td>0.0</td>\n",
       "      <td>0.00</td>\n",
       "      <td>1.95</td>\n",
       "      <td>0.95</td>\n",
       "      <td>9.36</td>\n",
       "    </tr>\n",
       "    <tr>\n",
       "      <th>2</th>\n",
       "      <td>ATSX</td>\n",
       "      <td>accelerate</td>\n",
       "      <td>21.11</td>\n",
       "      <td>99.99</td>\n",
       "      <td>0.0</td>\n",
       "      <td>13.60</td>\n",
       "      <td>1.63</td>\n",
       "      <td>0.97</td>\n",
       "      <td>6.85</td>\n",
       "    </tr>\n",
       "    <tr>\n",
       "      <th>3</th>\n",
       "      <td>ALFA</td>\n",
       "      <td>accelerate</td>\n",
       "      <td>14.19</td>\n",
       "      <td>100.00</td>\n",
       "      <td>0.0</td>\n",
       "      <td>8.09</td>\n",
       "      <td>1.27</td>\n",
       "      <td>0.48</td>\n",
       "      <td>4.31</td>\n",
       "    </tr>\n",
       "    <tr>\n",
       "      <th>4</th>\n",
       "      <td>QCD</td>\n",
       "      <td>agfiq</td>\n",
       "      <td>25.77</td>\n",
       "      <td>99.11</td>\n",
       "      <td>0.0</td>\n",
       "      <td>14.15</td>\n",
       "      <td>1.68</td>\n",
       "      <td>1.15</td>\n",
       "      <td>7.33</td>\n",
       "    </tr>\n",
       "    <tr>\n",
       "      <th>...</th>\n",
       "      <td>...</td>\n",
       "      <td>...</td>\n",
       "      <td>...</td>\n",
       "      <td>...</td>\n",
       "      <td>...</td>\n",
       "      <td>...</td>\n",
       "      <td>...</td>\n",
       "      <td>...</td>\n",
       "      <td>...</td>\n",
       "    </tr>\n",
       "    <tr>\n",
       "      <th>92</th>\n",
       "      <td>COW</td>\n",
       "      <td>blackrock/ishares</td>\n",
       "      <td>38.00</td>\n",
       "      <td>99.74</td>\n",
       "      <td>0.0</td>\n",
       "      <td>17.58</td>\n",
       "      <td>1.68</td>\n",
       "      <td>0.48</td>\n",
       "      <td>7.96</td>\n",
       "    </tr>\n",
       "    <tr>\n",
       "      <th>93</th>\n",
       "      <td>XHC</td>\n",
       "      <td>blackrock/ishares</td>\n",
       "      <td>55.52</td>\n",
       "      <td>98.62</td>\n",
       "      <td>0.0</td>\n",
       "      <td>24.40</td>\n",
       "      <td>4.15</td>\n",
       "      <td>1.99</td>\n",
       "      <td>15.57</td>\n",
       "    </tr>\n",
       "    <tr>\n",
       "      <th>96</th>\n",
       "      <td>CGR</td>\n",
       "      <td>blackrock/ishares</td>\n",
       "      <td>26.95</td>\n",
       "      <td>99.48</td>\n",
       "      <td>0.0</td>\n",
       "      <td>15.62</td>\n",
       "      <td>1.31</td>\n",
       "      <td>5.32</td>\n",
       "      <td>14.17</td>\n",
       "    </tr>\n",
       "    <tr>\n",
       "      <th>97</th>\n",
       "      <td>CWW</td>\n",
       "      <td>blackrock/ishares</td>\n",
       "      <td>39.35</td>\n",
       "      <td>98.87</td>\n",
       "      <td>0.0</td>\n",
       "      <td>24.51</td>\n",
       "      <td>2.69</td>\n",
       "      <td>1.60</td>\n",
       "      <td>10.68</td>\n",
       "    </tr>\n",
       "    <tr>\n",
       "      <th>98</th>\n",
       "      <td>CGL</td>\n",
       "      <td>blackrock/ishares</td>\n",
       "      <td>15.02</td>\n",
       "      <td>0.00</td>\n",
       "      <td>0.0</td>\n",
       "      <td>0.00</td>\n",
       "      <td>0.00</td>\n",
       "      <td>0.00</td>\n",
       "      <td>0.00</td>\n",
       "    </tr>\n",
       "  </tbody>\n",
       "</table>\n",
       "<p>95 rows × 9 columns</p>\n",
       "</div>"
      ],
      "text/plain": [
       "   Ticker        Fund_Family  previous_close  stocks  bonds  priceearnings  \\\n",
       "0    HDGE         accelerate           17.55  100.00    0.0          13.75   \n",
       "1     ARB         accelerate           21.82  100.00    0.0           0.00   \n",
       "2    ATSX         accelerate           21.11   99.99    0.0          13.60   \n",
       "3    ALFA         accelerate           14.19  100.00    0.0           8.09   \n",
       "4     QCD              agfiq           25.77   99.11    0.0          14.15   \n",
       "..    ...                ...             ...     ...    ...            ...   \n",
       "92    COW  blackrock/ishares           38.00   99.74    0.0          17.58   \n",
       "93    XHC  blackrock/ishares           55.52   98.62    0.0          24.40   \n",
       "96    CGR  blackrock/ishares           26.95   99.48    0.0          15.62   \n",
       "97    CWW  blackrock/ishares           39.35   98.87    0.0          24.51   \n",
       "98    CGL  blackrock/ishares           15.02    0.00    0.0           0.00   \n",
       "\n",
       "    pricebook  pricesales  pricecashflow  \n",
       "0        2.51        1.42          10.20  \n",
       "1        1.95        0.95           9.36  \n",
       "2        1.63        0.97           6.85  \n",
       "3        1.27        0.48           4.31  \n",
       "4        1.68        1.15           7.33  \n",
       "..        ...         ...            ...  \n",
       "92       1.68        0.48           7.96  \n",
       "93       4.15        1.99          15.57  \n",
       "96       1.31        5.32          14.17  \n",
       "97       2.69        1.60          10.68  \n",
       "98       0.00        0.00           0.00  \n",
       "\n",
       "[95 rows x 9 columns]"
      ]
     },
     "execution_count": 5,
     "metadata": {},
     "output_type": "execute_result"
    }
   ],
   "source": [
    "dataDF[\"Fund_Family\"] = dataDF[\"Fund_Family\"].str.lower()\n",
    "dataDF[[\"stocks\", \"bonds\"]] = dataDF[[\"stocks\", \"bonds\"]].replace(\"%\", \"\", regex=True).astype(float)\n",
    "dataDF"
   ]
  },
  {
   "cell_type": "code",
   "execution_count": 6,
   "metadata": {},
   "outputs": [
    {
     "data": {
      "text/plain": [
       "Text(0.5, 1.0, 'Fund Composition')"
      ]
     },
     "execution_count": 6,
     "metadata": {},
     "output_type": "execute_result"
    },
    {
     "data": {
      "image/png": "[encoded data removed]",
      "text/plain": [
       "<Figure size 432x288 with 1 Axes>"
      ]
     },
     "metadata": {
      "needs_background": "light"
     },
     "output_type": "display_data"
    }
   ],
   "source": [
    "ax = sns.scatterplot(data=dataDF, x=\"stocks\", y=\"bonds\", hue=\"Fund_Family\")\n",
    "ax.set_title(\"Fund Composition\")"
   ]
  },
  {
   "cell_type": "code",
   "execution_count": null,
   "metadata": {},
   "outputs": [],
   "source": []
  }
 ],
 "metadata": {
  "kernelspec": {
   "display_name": "Python 3",
   "language": "python",
   "name": "python3"
  },
  "language_info": {
   "codemirror_mode": {
    "name": "ipython",
    "version": 3
   },
   "file_extension": ".py",
   "mimetype": "text/x-python",
   "name": "python",
   "nbconvert_exporter": "python",
   "pygments_lexer": "ipython3",
   "version": "3.7.7"
  }
 },
 "nbformat": 4,
 "nbformat_minor": 4
}
